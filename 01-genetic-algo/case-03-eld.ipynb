{
 "cells": [
  {
   "cell_type": "markdown",
   "metadata": {
    "vscode": {
     "languageId": "plaintext"
    }
   },
   "source": [
    "Logs \n",
    "- [2025/03/01]   \n",
    "  This is an implementation of (Warsono et al., 2007) - "
   ]
  }
 ],
 "metadata": {
  "language_info": {
   "name": "python"
  }
 },
 "nbformat": 4,
 "nbformat_minor": 2
}
