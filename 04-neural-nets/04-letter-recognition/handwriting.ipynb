{
 "cells": [
  {
   "cell_type": "markdown",
   "id": "3cc54a1b",
   "metadata": {},
   "source": [
    "Logs\n",
    "- [2025/04/16]    \n",
    "  Some alternatives to MNIST\n",
    "  - https://github.com/zalandoresearch/fashion-mnist\n",
    "  - https://github.com/rois-codh/kmnist\n",
    "\n",
    "- [2025/04/17]    \n",
    "  To use tensorflowjs, we need to use specific version of tensorflow when\n",
    "  training the model.   \n",
    "  TensorFlow 2.15.0 and tfjs 4.22.0\n",
    "\n",
    "- [2025/04/19]    \n",
    "  Use `tfjs.converters.save_keras_model(model, \"./recognition/models/\")`  \n",
    "  to save the model\n",
    "\n",
    "- [2025/04/21]  \n",
    "  Please install `tensorflow==2.15.0`   \n",
    "  with `pip install tensorflow==2.15.0`"
   ]
  },
  {
   "cell_type": "markdown",
   "id": "15b8f011",
   "metadata": {},
   "source": [
    "Instead using MNIST, here we use EMNIST (Extended MNIST)    \n",
    "https://www.nist.gov/itl/products-and-services/emnist-dataset. \n",
    "\n",
    "And this notebook only processing `emnist-letters-*`"
   ]
  },
  {
   "cell_type": "code",
   "execution_count": 1,
   "id": "9052faa9",
   "metadata": {},
   "outputs": [
    {
     "name": "stderr",
     "output_type": "stream",
     "text": [
      "2025-04-21 12:45:27.929905: I tensorflow/core/platform/cpu_feature_guard.cc:182] This TensorFlow binary is optimized to use available CPU instructions in performance-critical operations.\n",
      "To enable the following instructions: AVX2 FMA, in other operations, rebuild TensorFlow with the appropriate compiler flags.\n",
      "2025-04-21 12:45:29.237059: W tensorflow/compiler/tf2tensorrt/utils/py_utils.cc:38] TF-TRT Warning: Could not find TensorRT\n"
     ]
    }
   ],
   "source": [
    "import gzip\n",
    "import struct as st\n",
    "import numpy as np\n",
    "import tensorflow as tf\n",
    "# import tensorflowjs as tfjs            # pip install tensorflowjs\n",
    "import matplotlib.pyplot as plt\n",
    "import time"
   ]
  },
  {
   "cell_type": "code",
   "execution_count": 2,
   "id": "eaaa3bb1",
   "metadata": {},
   "outputs": [
    {
     "name": "stdout",
     "output_type": "stream",
     "text": [
      "[PhysicalDevice(name='/physical_device:GPU:0', device_type='GPU')]\n"
     ]
    },
    {
     "name": "stderr",
     "output_type": "stream",
     "text": [
      "2025-04-21 12:45:31.033756: I tensorflow/compiler/xla/stream_executor/cuda/cuda_gpu_executor.cc:995] successful NUMA node read from SysFS had negative value (-1), but there must be at least one NUMA node, so returning NUMA node zero. See more at https://github.com/torvalds/linux/blob/v6.0/Documentation/ABI/testing/sysfs-bus-pci#L344-L355\n",
      "2025-04-21 12:45:31.093665: I tensorflow/compiler/xla/stream_executor/cuda/cuda_gpu_executor.cc:995] successful NUMA node read from SysFS had negative value (-1), but there must be at least one NUMA node, so returning NUMA node zero. See more at https://github.com/torvalds/linux/blob/v6.0/Documentation/ABI/testing/sysfs-bus-pci#L344-L355\n",
      "2025-04-21 12:45:31.093948: I tensorflow/compiler/xla/stream_executor/cuda/cuda_gpu_executor.cc:995] successful NUMA node read from SysFS had negative value (-1), but there must be at least one NUMA node, so returning NUMA node zero. See more at https://github.com/torvalds/linux/blob/v6.0/Documentation/ABI/testing/sysfs-bus-pci#L344-L355\n"
     ]
    }
   ],
   "source": [
    "print(tf.config.list_physical_devices('GPU'))"
   ]
  },
  {
   "cell_type": "code",
   "execution_count": 3,
   "id": "fdbd430a",
   "metadata": {},
   "outputs": [],
   "source": [
    "plt.rcParams.update(plt.rcParamsDefault)\n",
    "plt.rcParams.update({\n",
    "  'font.size': 16,\n",
    "  'grid.alpha': 0.25,\n",
    "  'figure.facecolor': 'white'})"
   ]
  },
  {
   "cell_type": "markdown",
   "id": "19b3704d",
   "metadata": {},
   "source": [
    "From https://medium.com/the-owl/converting-mnist-data-in-idx-format-to-python-numpy-array-5cb9126f99f1\n",
    "\n",
    "IDX file format\n",
    "```\n",
    "magic number\n",
    "size in dimension 0\n",
    "size in dimension 1\n",
    "...\n",
    "size in dimension N\n",
    "data\n",
    "```\n",
    "\n",
    "### Magic number\n",
    "The magic number is an integer (MSB - Most Signficant Byte, first). The first\n",
    "two bytes are always 0. \n",
    "\n",
    "The third byte codes the type of the data:\n",
    "- 0x08: unsigned byte \n",
    "- 0x09: signed byte\n",
    "- 0x0B: short (2 bytes)\n",
    "- 0x0C: int (4 bytes)\n",
    "- 0x0D: float (4 bytes)\n",
    "- 0x0E: double (8 bytes)\n",
    "\n",
    "The fourth bytes codes the number of dimensions of the vector/matrix/tensor:   \n",
    "1 for vectors, 2 for matrix, 3 for tensor, and so on.\n",
    "\n",
    "### Size in dimension\n",
    "The sizes in each dimension are 4-byte integers (MSB first, high endian, like\n",
    "in most non-Intel processors).\n",
    "\n",
    "The data is stored like in a C array, i.e. the index in the last dimension changes \n",
    "the fastest"
   ]
  },
  {
   "cell_type": "code",
   "execution_count": 4,
   "id": "5a74cfaa",
   "metadata": {},
   "outputs": [],
   "source": [
    "def read_idx_to_numpy(DIR_input, filename_dict, key, verbose=False):\n",
    "  start_time = time.perf_counter()\n",
    "  fdata = gzip.open(DIR_input + filename_dict[key])\n",
    "\n",
    "  # -- read magic number\n",
    "  # \">4B\": Big endian, unsigned char four times = \">BBBB\"\n",
    "  # See: https://docs.python.org/3/library/struct.html#format-strings\n",
    "  magic = st.unpack(\">4B\", fdata.read(4))\n",
    "  if verbose: print(f\"magic = {magic}\")\n",
    "  dtype_magic_num = {\n",
    "    \"8\": [\">B\", np.uint8], \"9\": [\">b\", np.int8],\n",
    "    \"B\": [\">H\", np.uint16], \"C\": [\">h\", np.int16],\n",
    "    \"D\": [\">I\", np.uint32], \"E\": [\">i\", np.int32]}\n",
    "  dtype_image = dtype_magic_num[f\"{magic[2]}\"]\n",
    "  if verbose: print(f\"data type = {dtype_image}\")\n",
    "\n",
    "  # -- read dimensions of the image dataset (size is stored in 4-bytes integers: I)\n",
    "  size_dims = []\n",
    "  for idx in range(magic[-1]):\n",
    "    size_dims.append(st.unpack(\">I\", fdata.read(4))[0])\n",
    "  if verbose: print(f\"size_dim = {size_dims}\")\n",
    "\n",
    "  # -- read the image or label data \n",
    "  n_bytes_total = np.prod(size_dims)   # in byte\n",
    "  if verbose: print(f\"total bytes: {n_bytes_total:,}\")\n",
    "  format_char = dtype_image[0]\n",
    "  data_array = np.array(st.unpack(format_char[0] + f\"{n_bytes_total}\" + format_char[1], \n",
    "    fdata.read(n_bytes_total)), dtype=dtype_image[1]).reshape(size_dims)\n",
    "  \n",
    "  if verbose: print(f\"computational time: {time.perf_counter() - start_time:.2f} s\")\n",
    "  return data_array\n",
    "\n"
   ]
  },
  {
   "cell_type": "markdown",
   "id": "3508e26a",
   "metadata": {},
   "source": [
    "read training data"
   ]
  },
  {
   "cell_type": "code",
   "execution_count": 5,
   "id": "43ad70e5",
   "metadata": {},
   "outputs": [
    {
     "name": "stdout",
     "output_type": "stream",
     "text": [
      "magic = (0, 0, 8, 3)\n",
      "data type = ['>B', <class 'numpy.uint8'>]\n",
      "size_dim = [124800, 28, 28]\n",
      "total bytes: 97,843,200\n",
      "computational time: 7.31 s\n",
      "magic = (0, 0, 8, 1)\n",
      "data type = ['>B', <class 'numpy.uint8'>]\n",
      "size_dim = [124800]\n",
      "total bytes: 124,800\n",
      "computational time: 0.01 s\n"
     ]
    }
   ],
   "source": [
    "DIR_input = \"./emnist/\"\n",
    "train_filename = {\"images\": \"emnist-letters-train-images-idx3-ubyte.gz\",\n",
    "                  \"labels\": \"emnist-letters-train-labels-idx1-ubyte.gz\"}\n",
    "images_train = read_idx_to_numpy(DIR_input, train_filename, \"images\", verbose=True)\n",
    "labels_train = read_idx_to_numpy(DIR_input, train_filename, \"labels\", verbose=True)"
   ]
  },
  {
   "cell_type": "code",
   "execution_count": 6,
   "id": "fa14c54f",
   "metadata": {},
   "outputs": [
    {
     "data": {
      "text/plain": [
       "(124800, 28, 28)"
      ]
     },
     "execution_count": 6,
     "metadata": {},
     "output_type": "execute_result"
    }
   ],
   "source": [
    "np.shape(images_train)"
   ]
  },
  {
   "cell_type": "markdown",
   "id": "2a499b92",
   "metadata": {},
   "source": [
    "read testing data"
   ]
  },
  {
   "cell_type": "code",
   "execution_count": 7,
   "id": "a7c16492",
   "metadata": {},
   "outputs": [
    {
     "name": "stdout",
     "output_type": "stream",
     "text": [
      "magic = (0, 0, 8, 3)\n",
      "data type = ['>B', <class 'numpy.uint8'>]\n",
      "size_dim = [20800, 28, 28]\n",
      "total bytes: 16,307,200\n",
      "computational time: 1.42 s\n",
      "magic = (0, 0, 8, 1)\n",
      "data type = ['>B', <class 'numpy.uint8'>]\n",
      "size_dim = [20800]\n",
      "total bytes: 20,800\n",
      "computational time: 0.00 s\n"
     ]
    }
   ],
   "source": [
    "DIR_input = \"./emnist/\"\n",
    "test_filename = {\"images\": \"emnist-letters-test-images-idx3-ubyte.gz\",\n",
    "                 \"labels\": \"emnist-letters-test-labels-idx1-ubyte.gz\"}\n",
    "images_test = read_idx_to_numpy(DIR_input, test_filename, \"images\", verbose=True)\n",
    "labels_test = read_idx_to_numpy(DIR_input, test_filename, \"labels\", verbose=True)\n"
   ]
  },
  {
   "cell_type": "markdown",
   "id": "167fcf0d",
   "metadata": {},
   "source": [
    "read letter mapping "
   ]
  },
  {
   "cell_type": "code",
   "execution_count": 8,
   "id": "778d4fd7",
   "metadata": {},
   "outputs": [
    {
     "data": {
      "text/plain": [
       "['.',\n",
       " 'Aa',\n",
       " 'Bb',\n",
       " 'Cc',\n",
       " 'Dd',\n",
       " 'Ee',\n",
       " 'Ff',\n",
       " 'Gg',\n",
       " 'Hh',\n",
       " 'Ii',\n",
       " 'Jj',\n",
       " 'Kk',\n",
       " 'Ll',\n",
       " 'Mm',\n",
       " 'Nn',\n",
       " 'Oo',\n",
       " 'Pp',\n",
       " 'Qq',\n",
       " 'Rr',\n",
       " 'Ss',\n",
       " 'Tt',\n",
       " 'Uu',\n",
       " 'Vv',\n",
       " 'Ww',\n",
       " 'Xx',\n",
       " 'Yy',\n",
       " 'Zz']"
      ]
     },
     "execution_count": 8,
     "metadata": {},
     "output_type": "execute_result"
    }
   ],
   "source": [
    "letter_map = [\".\"]\n",
    "with open(\"./emnist/emnist-letters-mapping.txt\", \"r\") as fmapping:\n",
    "  mapping_data = fmapping.readlines()\n",
    "  for row in mapping_data:\n",
    "    _, lower_ascii, upper_ascii = row.strip().split()\n",
    "    letter_map.append(f\"{chr(int(lower_ascii))}{chr(int(upper_ascii))}\")\n",
    "  \n",
    "letter_map"
   ]
  },
  {
   "cell_type": "markdown",
   "id": "7405bda0",
   "metadata": {},
   "source": [
    "Prepare data for training"
   ]
  },
  {
   "cell_type": "code",
   "execution_count": 9,
   "id": "3d130b9c",
   "metadata": {},
   "outputs": [],
   "source": [
    "x_train = images_train / 255.0\n",
    "x_test = images_test / 255.0\n",
    "\n",
    "x_train = x_train.reshape(\n",
    "  x_train.shape[0], x_train.shape[1], x_train.shape[2], 1)\n",
    "x_train = np.transpose(x_train, axes=[0, 2, 1, 3])\n",
    "x_test = x_test.reshape(\n",
    "  x_test.shape[0], x_test.shape[1], x_test.shape[2], 1)\n",
    "x_test = np.transpose(x_test, axes=[0, 2, 1, 3])\n",
    "\n",
    "y_train = tf.keras.utils.to_categorical(labels_train)\n",
    "y_test = tf.keras.utils.to_categorical(labels_test)"
   ]
  },
  {
   "cell_type": "code",
   "execution_count": 10,
   "id": "725df1e5",
   "metadata": {},
   "outputs": [
    {
     "data": {
      "text/plain": [
       "array([0., 0., 0., 0., 0., 0., 0., 0., 0., 0., 0., 0., 0., 0., 0., 0., 0.,\n",
       "       0., 0., 0., 0., 0., 0., 1., 0., 0., 0.], dtype=float32)"
      ]
     },
     "execution_count": 10,
     "metadata": {},
     "output_type": "execute_result"
    }
   ],
   "source": [
    "y_train[0]"
   ]
  },
  {
   "cell_type": "markdown",
   "id": "1a5ddb31",
   "metadata": {},
   "source": [
    "Visualize training data"
   ]
  },
  {
   "cell_type": "code",
   "execution_count": 11,
   "id": "ef9e3bee",
   "metadata": {},
   "outputs": [
    {
     "data": {
      "image/png": "[encoded data removed]",
      "text/plain": [
       "<Figure size 600x700 with 9 Axes>"
      ]
     },
     "metadata": {},
     "output_type": "display_data"
    }
   ],
   "source": [
    "# less than a second\n",
    "nrows = 3\n",
    "ncols = 3\n",
    "\n",
    "# 23 secs to show the images\n",
    "# nrows = 10\n",
    "# ncols = 10\n",
    "\n",
    "fig, axes = plt.subplots(nrows=nrows, ncols=ncols, figsize=(6, 7), \n",
    "                          sharex=True, sharey=True)\n",
    "\n",
    "\n",
    "for idx in range(nrows*ncols):\n",
    "\n",
    "  image = x_train[idx]\n",
    "  axes[idx//ncols, idx%nrows].imshow(image, cmap=\"gray_r\")\n",
    "\n",
    "  axes[idx//ncols, idx%nrows].set_xticks([])\n",
    "  axes[idx//ncols, idx%nrows].set_yticks([])\n",
    "  axes[idx//ncols, idx%nrows].set_title(letter_map[labels_train[idx]])\n",
    "\n",
    "\n",
    "plt.show(fig)"
   ]
  },
  {
   "cell_type": "markdown",
   "id": "cfaf1d6d",
   "metadata": {},
   "source": [
    "Visualize testing data"
   ]
  },
  {
   "cell_type": "code",
   "execution_count": 12,
   "id": "eff8670c",
   "metadata": {},
   "outputs": [
    {
     "data": {
      "image/png": "[encoded data removed]",
      "text/plain": [
       "<Figure size 600x700 with 9 Axes>"
      ]
     },
     "metadata": {},
     "output_type": "display_data"
    }
   ],
   "source": [
    "# less than a second\n",
    "nrows = 3\n",
    "ncols = 3\n",
    "\n",
    "# 23 secs to show the images\n",
    "# nrows = 10\n",
    "# ncols = 10\n",
    "\n",
    "fig, axes = plt.subplots(nrows=nrows, ncols=ncols, figsize=(6, 7), \n",
    "                          sharex=True, sharey=True)\n",
    "\n",
    "\n",
    "for idx in range(nrows*ncols):\n",
    "\n",
    "  image = x_test[idx]\n",
    "  axes[idx//ncols, idx%nrows].imshow(image, cmap=\"gray_r\")\n",
    "\n",
    "  axes[idx//ncols, idx%nrows].set_xticks([])\n",
    "  axes[idx//ncols, idx%nrows].set_yticks([])\n",
    "  axes[idx//ncols, idx%nrows].set_title(letter_map[labels_test[idx]])\n",
    "\n",
    "\n",
    "plt.show(fig)"
   ]
  },
  {
   "cell_type": "markdown",
   "id": "48f9c8e7",
   "metadata": {},
   "source": [
    "Create a convolutional neural network"
   ]
  },
  {
   "cell_type": "code",
   "execution_count": 13,
   "id": "b48c927b",
   "metadata": {},
   "outputs": [
    {
     "name": "stderr",
     "output_type": "stream",
     "text": [
      "2025-04-21 12:45:50.816429: I tensorflow/compiler/xla/stream_executor/cuda/cuda_gpu_executor.cc:995] successful NUMA node read from SysFS had negative value (-1), but there must be at least one NUMA node, so returning NUMA node zero. See more at https://github.com/torvalds/linux/blob/v6.0/Documentation/ABI/testing/sysfs-bus-pci#L344-L355\n",
      "2025-04-21 12:45:50.816771: I tensorflow/compiler/xla/stream_executor/cuda/cuda_gpu_executor.cc:995] successful NUMA node read from SysFS had negative value (-1), but there must be at least one NUMA node, so returning NUMA node zero. See more at https://github.com/torvalds/linux/blob/v6.0/Documentation/ABI/testing/sysfs-bus-pci#L344-L355\n",
      "2025-04-21 12:45:50.816990: I tensorflow/compiler/xla/stream_executor/cuda/cuda_gpu_executor.cc:995] successful NUMA node read from SysFS had negative value (-1), but there must be at least one NUMA node, so returning NUMA node zero. See more at https://github.com/torvalds/linux/blob/v6.0/Documentation/ABI/testing/sysfs-bus-pci#L344-L355\n",
      "2025-04-21 12:45:51.701553: I tensorflow/compiler/xla/stream_executor/cuda/cuda_gpu_executor.cc:995] successful NUMA node read from SysFS had negative value (-1), but there must be at least one NUMA node, so returning NUMA node zero. See more at https://github.com/torvalds/linux/blob/v6.0/Documentation/ABI/testing/sysfs-bus-pci#L344-L355\n",
      "2025-04-21 12:45:51.701836: I tensorflow/compiler/xla/stream_executor/cuda/cuda_gpu_executor.cc:995] successful NUMA node read from SysFS had negative value (-1), but there must be at least one NUMA node, so returning NUMA node zero. See more at https://github.com/torvalds/linux/blob/v6.0/Documentation/ABI/testing/sysfs-bus-pci#L344-L355\n",
      "2025-04-21 12:45:51.702065: I tensorflow/compiler/xla/stream_executor/cuda/cuda_gpu_executor.cc:995] successful NUMA node read from SysFS had negative value (-1), but there must be at least one NUMA node, so returning NUMA node zero. See more at https://github.com/torvalds/linux/blob/v6.0/Documentation/ABI/testing/sysfs-bus-pci#L344-L355\n",
      "2025-04-21 12:45:51.702246: I tensorflow/core/common_runtime/gpu/gpu_device.cc:1639] Created device /job:localhost/replica:0/task:0/device:GPU:0 with 3921 MB memory:  -> device: 0, name: NVIDIA GeForce RTX 2060, pci bus id: 0000:01:00.0, compute capability: 7.5\n"
     ]
    }
   ],
   "source": [
    "tf.keras.backend.clear_session()\n",
    "model = tf.keras.models.Sequential([\n",
    "  tf.keras.layers.Input((28, 28, 1)),\n",
    "\n",
    "  # Convolutional layer. Learn 32 filters using a 3x3 kernel\n",
    "  tf.keras.layers.Conv2D(\n",
    "    32, (3, 3), activation=\"relu\"),\n",
    "\n",
    "  # Max-pooling layer, using 2x2 pool size\n",
    "  tf.keras.layers.MaxPooling2D(pool_size=(2, 2)),\n",
    "\n",
    "  # Flatten units\n",
    "  tf.keras.layers.Flatten(),\n",
    "\n",
    "  # Add hidden layer with dropout\n",
    "  tf.keras.layers.Dense(128, activation=\"relu\"),\n",
    "  tf.keras.layers.Dropout(0.5),\n",
    "\n",
    "  # Add an output layer with output units for all 26 letters\n",
    "  tf.keras.layers.Dense(27, activation=\"softmax\")\n",
    "])"
   ]
  },
  {
   "cell_type": "code",
   "execution_count": 14,
   "id": "ee8fceae",
   "metadata": {},
   "outputs": [
    {
     "name": "stdout",
     "output_type": "stream",
     "text": [
      "Model: \"sequential\"\n",
      "_________________________________________________________________\n",
      " Layer (type)                Output Shape              Param #   \n",
      "=================================================================\n",
      " conv2d (Conv2D)             (None, 26, 26, 32)        320       \n",
      "                                                                 \n",
      " max_pooling2d (MaxPooling2  (None, 13, 13, 32)        0         \n",
      " D)                                                              \n",
      "                                                                 \n",
      " flatten (Flatten)           (None, 5408)              0         \n",
      "                                                                 \n",
      " dense (Dense)               (None, 128)               692352    \n",
      "                                                                 \n",
      " dropout (Dropout)           (None, 128)               0         \n",
      "                                                                 \n",
      " dense_1 (Dense)             (None, 27)                3483      \n",
      "                                                                 \n",
      "=================================================================\n",
      "Total params: 696155 (2.66 MB)\n",
      "Trainable params: 696155 (2.66 MB)\n",
      "Non-trainable params: 0 (0.00 Byte)\n",
      "_________________________________________________________________\n"
     ]
    }
   ],
   "source": [
    "model.summary()"
   ]
  },
  {
   "cell_type": "markdown",
   "id": "594c2309",
   "metadata": {},
   "source": [
    "Train neural networks"
   ]
  },
  {
   "cell_type": "code",
   "execution_count": 15,
   "id": "64569bd5",
   "metadata": {},
   "outputs": [
    {
     "name": "stdout",
     "output_type": "stream",
     "text": [
      "Epoch 1/10\n"
     ]
    },
    {
     "name": "stderr",
     "output_type": "stream",
     "text": [
      "2025-04-21 12:45:56.830783: I tensorflow/compiler/xla/stream_executor/cuda/cuda_dnn.cc:432] Loaded cuDNN version 8907\n",
      "2025-04-21 12:45:59.580500: I tensorflow/compiler/xla/service/service.cc:168] XLA service 0x7f4664da3960 initialized for platform CUDA (this does not guarantee that XLA will be used). Devices:\n",
      "2025-04-21 12:45:59.580541: I tensorflow/compiler/xla/service/service.cc:176]   StreamExecutor device (0): NVIDIA GeForce RTX 2060, Compute Capability 7.5\n",
      "2025-04-21 12:46:01.902798: I tensorflow/compiler/mlir/tensorflow/utils/dump_mlir_util.cc:255] disabling MLIR crash reproducer, set env var `MLIR_CRASH_REPRODUCER_DIRECTORY` to enable.\n",
      "2025-04-21 12:46:18.343657: I ./tensorflow/compiler/jit/device_compiler.h:186] Compiled cluster using XLA!  This line is logged at most once for the lifetime of the process.\n"
     ]
    },
    {
     "name": "stdout",
     "output_type": "stream",
     "text": [
      "3900/3900 [==============================] - 38s 3ms/step - loss: 0.8858 - accuracy: 0.7301\n",
      "Epoch 2/10\n",
      "3900/3900 [==============================] - 14s 4ms/step - loss: 0.5393 - accuracy: 0.8294\n",
      "Epoch 3/10\n",
      "3900/3900 [==============================] - 14s 3ms/step - loss: 0.4557 - accuracy: 0.8540\n",
      "Epoch 4/10\n",
      "3900/3900 [==============================] - 14s 3ms/step - loss: 0.4114 - accuracy: 0.8679\n",
      "Epoch 5/10\n",
      "3900/3900 [==============================] - 13s 3ms/step - loss: 0.3785 - accuracy: 0.8774\n",
      "Epoch 6/10\n",
      "3900/3900 [==============================] - 13s 3ms/step - loss: 0.3538 - accuracy: 0.8839\n",
      "Epoch 7/10\n",
      "3900/3900 [==============================] - 13s 3ms/step - loss: 0.3352 - accuracy: 0.8902\n",
      "Epoch 8/10\n",
      "3900/3900 [==============================] - 13s 3ms/step - loss: 0.3160 - accuracy: 0.8957\n",
      "Epoch 9/10\n",
      "3900/3900 [==============================] - 13s 3ms/step - loss: 0.3032 - accuracy: 0.8991\n",
      "Epoch 10/10\n",
      "3900/3900 [==============================] - 13s 3ms/step - loss: 0.2900 - accuracy: 0.9032\n"
     ]
    }
   ],
   "source": [
    "model.compile(\n",
    "  optimizer=\"adam\",\n",
    "  loss=\"categorical_crossentropy\",\n",
    "  metrics=[\"accuracy\"]\n",
    ")\n",
    "\n",
    "history = model.fit(x_train, y_train, epochs=10)"
   ]
  },
  {
   "cell_type": "code",
   "execution_count": 16,
   "id": "e6c39e8f",
   "metadata": {},
   "outputs": [
    {
     "data": {
      "image/png": "[encoded data removed]",
      "text/plain": [
       "<Figure size 640x480 with 2 Axes>"
      ]
     },
     "metadata": {},
     "output_type": "display_data"
    }
   ],
   "source": [
    "acc = history.history[\"accuracy\"]\n",
    "loss = history.history[\"loss\"]\n",
    "\n",
    "fig, ax = plt.subplots()\n",
    "\n",
    "ax.plot(acc, label=\"acc\", linewidth=3)\n",
    "ax.set_xlabel(\"epoch\")\n",
    "ax.set_ylabel(\"accuracy\")\n",
    "ax.grid(\"on\")\n",
    "\n",
    "ax_right = ax.twinx()\n",
    "ax_right.plot(loss, color=\"tab:orange\", label=\"loss\", linewidth=3)\n",
    "ax_right.set_ylabel(\"loss\")\n",
    "\n",
    "handles_ax, labels_ax = ax.get_legend_handles_labels()\n",
    "handles_ax_right, labels_ax_right = ax_right.get_legend_handles_labels()\n",
    "handles = handles_ax + handles_ax_right\n",
    "labels = labels_ax + labels_ax_right\n",
    "ax.legend(handles, labels, loc=\"center right\")\n",
    "\n",
    "plt.show(fig)"
   ]
  },
  {
   "cell_type": "markdown",
   "id": "efd7c58d",
   "metadata": {},
   "source": [
    "Evaluate neural network performance"
   ]
  },
  {
   "cell_type": "code",
   "execution_count": 17,
   "id": "fa8b7e28",
   "metadata": {},
   "outputs": [
    {
     "name": "stdout",
     "output_type": "stream",
     "text": [
      "650/650 - 1s - loss: 0.2591 - accuracy: 0.9245 - 1s/epoch - 2ms/step\n"
     ]
    },
    {
     "data": {
      "text/plain": [
       "[0.2591310143470764, 0.9245192408561707]"
      ]
     },
     "execution_count": 17,
     "metadata": {},
     "output_type": "execute_result"
    }
   ],
   "source": [
    "model.evaluate(x_test, y_test, verbose=2)"
   ]
  },
  {
   "cell_type": "markdown",
   "id": "6186e22a",
   "metadata": {},
   "source": [
    "Save model to file"
   ]
  },
  {
   "cell_type": "code",
   "execution_count": 18,
   "id": "850695f8",
   "metadata": {},
   "outputs": [],
   "source": [
    "# tfjs.converters.save_keras_model(model, \"../00-demo/recognition/models/\")"
   ]
  },
  {
   "cell_type": "code",
   "execution_count": 19,
   "id": "4b70804c",
   "metadata": {},
   "outputs": [],
   "source": [
    "# model.save(\"handwriting-letters.keras\")"
   ]
  }
 ],
 "metadata": {
  "kernelspec": {
   "display_name": "tf2_15",
   "language": "python",
   "name": "python3"
  },
  "language_info": {
   "codemirror_mode": {
    "name": "ipython",
    "version": 3
   },
   "file_extension": ".py",
   "mimetype": "text/x-python",
   "name": "python",
   "nbconvert_exporter": "python",
   "pygments_lexer": "ipython3",
   "version": "3.8.20"
  }
 },
 "nbformat": 4,
 "nbformat_minor": 5
}
